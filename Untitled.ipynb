{
 "cells": [
  {
   "cell_type": "code",
   "execution_count": 1,
   "metadata": {
    "collapsed": true
   },
   "outputs": [],
   "source": [
    "%load_ext cython"
   ]
  },
  {
   "cell_type": "code",
   "execution_count": 3,
   "metadata": {},
   "outputs": [],
   "source": [
    "%%cython\n",
    "\n",
    "import numpy as np \n",
    "cimport numpy as np \n",
    "from libc.math cimport sin, cos\n",
    "\n",
    "def insert_slices(np.ndarray[np.float64_t, ndim = 2] slices, np.ndarray[np.float64_t, ndim = 2] thetas, n0, n1):\n",
    "\n",
    "    cdef np.ndarray[np.float64_t, ndim = 2] model = np.zeros((n0, n1), dtype = np.float64)\n",
    "    cdef np.ndarray[np.float64_t, ndim = 2] weight = np.zeros((n0, n1), dtype = np.float64)\n",
    "    cdef np.ndarray[np.float64_t, ndim = 1] slc\n",
    "    cdef int s0, s1, sc, c0, c1, x, y\n",
    "    cdef double xx, yy, fx, fy, ifx, ify, w\n",
    "    cdef Py_ssize_t th, i, t\n",
    "\n",
    "    s0 = slices.shape[0]\n",
    "    s1 = slices.shape[1]\n",
    "    assert(s0 == len(thetas))\n",
    "\n",
    "    sc = s1 // 2\n",
    "    c0 = n0 // 2\n",
    "    c1 = n1 // 2\n",
    "\n",
    "    for i, th in enumerate(thetas):\n",
    "        slc = slices[i]\n",
    "        for t, v in enumerate(slc):\n",
    "            x = 0\n",
    "            y = t - sc\n",
    "\n",
    "            xx = cos(th)*x + sin(th) * y\n",
    "            yy = -sin(th)*x + cos(th) * y\n",
    "\n",
    "            xx += c0\n",
    "            yy += c1\n",
    "\n",
    "            if xx <= 0 or xx >= n0 - 1: continue\n",
    "            if yy <= 0 or yy >= n1 - 1: continue\n",
    "\n",
    "            xxx = <int>xx\n",
    "            yyy = <int>yy\n",
    "\n",
    "            fx = xx - xxx\n",
    "            fy = yy - yyy\n",
    "            ifx = 1. - fx\n",
    "            ify = 1. - fy\n",
    "\n",
    "            w = ifx * ify\n",
    "            model[xxx, yyy] += w*v \n",
    "            weight[xxx, yyy] += w\n",
    "\n",
    "            w = ifx * fy\n",
    "            model[xxx, yyy + 1]  += w*v\n",
    "            weight[xxx, yyy + 1] += w\n",
    "\n",
    "            w = fx * fy\n",
    "            model[xxx + 1, yyy + 1] += w*v\n",
    "            weight[xxx + 1, yyy + 1] += w\n",
    "\n",
    "            w = fx * ify\n",
    "            model[xxx + 1, yyy] += w*v\n",
    "            weight[xxx + 1, yyy] += w\n",
    "\n",
    "    weight = np.where(weight == 0., 1., weight)\n",
    "    return model / weight\n",
    "\n",
    "\n",
    "\n"
   ]
  },
  {
   "cell_type": "code",
   "execution_count": null,
   "metadata": {
    "collapsed": true
   },
   "outputs": [],
   "source": []
  }
 ],
 "metadata": {
  "kernelspec": {
   "display_name": "Python 3",
   "language": "python",
   "name": "python3"
  },
  "language_info": {
   "codemirror_mode": {
    "name": "ipython",
    "version": 3
   },
   "file_extension": ".py",
   "mimetype": "text/x-python",
   "name": "python",
   "nbconvert_exporter": "python",
   "pygments_lexer": "ipython3",
   "version": "3.6.1"
  }
 },
 "nbformat": 4,
 "nbformat_minor": 2
}
